{
 "cells": [
  {
   "cell_type": "code",
   "execution_count": null,
   "id": "fb53c91a-6210-46b5-a77f-95dc1d5e6ca1",
   "metadata": {},
   "outputs": [],
   "source": [
    "from experiments_utils import run_maybe_remotely\n",
    "from sbibm_unle_extra.unle import run\n",
    "ret = run_maybe_remotely(\n",
    "    run,\n",
    "    folder_name=\"icml\",\n",
    "    experience_name=\"paper\",\n",
    "    use_slurm=True,\n",
    "    task=\"pyloric\",\n",
    "    num_samples=(50000,*(10000,)*10),\n",
    "    num_observation=2,\n",
    "    num_mala_steps=50,\n",
    "    use_warm_start=True,\n",
    "    learning_rate=0.0001,\n",
    "    max_iter=500,\n",
    "    weight_decay=0.1,\n",
    "    random_seed=40,\n",
    "    sampler=\"mala\",\n",
    "    num_particles=1000,\n",
    "    batch_size=1000,\n",
    "    num_posterior_samples=1000,\n",
    "    use_nuts=False,\n",
    "    init_proposal=\"prior\",\n",
    "    noise_injection_val=0.001,\n",
    "    proposal=\"data\",\n",
    "    inference_sampler=\"exchange_mcmc\",\n",
    "    ebm_model_type=\"likelihood\",\n",
    "    inference_proposal=\"prior\",\n",
    "    use_data_from_past_rounds=True,\n",
    "    estimate_loss=False,\n",
    "    ebm_depth=9,\n",
    "    ebm_width=300,\n",
    "    exchange_mcmc_inner_sampler_num_steps=100,\n",
    "    inference_num_warmup_steps=500,\n",
    "    training_num_frozen_steps=50\n",
    ")"
   ]
  }
 ],
 "metadata": {
  "kernelspec": {
   "display_name": "unle-icml-2023",
   "language": "python",
   "name": "unle-icml-2023"
  },
  "language_info": {
   "codemirror_mode": {
    "name": "ipython",
    "version": 3
   },
   "file_extension": ".py",
   "mimetype": "text/x-python",
   "name": "python",
   "nbconvert_exporter": "python",
   "pygments_lexer": "ipython3",
   "version": "3.9.16"
  }
 },
 "nbformat": 4,
 "nbformat_minor": 5
}
